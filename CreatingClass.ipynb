{
  "nbformat": 4,
  "nbformat_minor": 0,
  "metadata": {
    "colab": {
      "name": "CreatingClass.ipynb",
      "provenance": [],
      "collapsed_sections": [],
      "include_colab_link": true
    },
    "kernelspec": {
      "name": "python3",
      "display_name": "Python 3"
    }
  },
  "cells": [
    {
      "cell_type": "markdown",
      "metadata": {
        "id": "view-in-github",
        "colab_type": "text"
      },
      "source": [
        "<a href=\"https://colab.research.google.com/github/Reagan1947/colba/blob/master/CreatingClass.ipynb\" target=\"_parent\"><img src=\"https://colab.research.google.com/assets/colab-badge.svg\" alt=\"Open In Colab\"/></a>"
      ]
    },
    {
      "cell_type": "code",
      "metadata": {
        "id": "C2JRtioiNIpH",
        "colab_type": "code",
        "colab": {}
      },
      "source": [
        "# python3 version\n",
        "class SchoolStudent(object):  # 是否需要继承object\n",
        "  pass\n",
        "\n",
        "# python2 version\n",
        "class SchoolStudent(object)\n",
        "  pass"
      ],
      "execution_count": 0,
      "outputs": []
    },
    {
      "cell_type": "markdown",
      "metadata": {
        "id": "wwi2yaVkOFgw",
        "colab_type": "text"
      },
      "source": [
        "# 如何创建一个类？\n",
        "1. `class` 类标识符，表示创建的是一个类。\n",
        "2. `SchoolStudent` 类名称。\n",
        "这里的类名称使用了驼峰命名法，为什么要使用驼峰命名法呢？\n",
        "<br>这和后续创建实例有关\n",
        "<br>当我们通过一个类创建一个新的对象的时候：\n",
        "<br>`school_student = SchoolStudent()`\n",
        "<br>在python编码指南，[PEP8](https://https://www.python.org/dev/peps/pep-0008/)中推荐使用下划线命名。\n",
        "3.我们注意到在python2中类名后面是没有内容的。\n",
        "<br>有人为python2写了一个倒计时页面：https://pythonclock.org/\n",
        "4.回到python3的版本，后面的`(object)`表明了要继承的类。\n",
        "<br>类的继承将在稍后讲到。但并不是每次都需要继承类，当没有类需要继承的时候\n",
        "<br>另外，这里这里的`object` 继承有意义吗？\n",
        "5.如何继承一个类？\n",
        "<br>当然显而易见：`class SchoolStudent(student)`\n",
        "<br>将类名放在括号内即可。\n"
      ]
    },
    {
      "cell_type": "markdown",
      "metadata": {
        "id": "Byv_i7NaWnlw",
        "colab_type": "text"
      },
      "source": [
        "### Python 为什么要继承 object 类？\n",
        "#### 首先我们引入两个概念：新式类和经典类\n",
        "> Python 2.x中默认都是经典类，只有显式继承了object才是新式类\n",
        "> <br>Python 3.x中默认都是新式类，不必显式的继承object\n",
        "#### - 什么是新式类？\n",
        "在python2.x中给出如下定义：\n",
        "\n",
        "\n",
        "```\n",
        "class A(object):  # A是新式类，因为显式继承object\n",
        "    pass\n",
        "\n",
        "class B(A):  # B是新式类，因为B的基类A是新式类\n",
        "    pass\n",
        "```\n",
        "#### - 什么是经典类(旧式类)?\n",
        "\n",
        "\n",
        "```\n",
        "class A:  # A是旧式类，因为没有显示继承object\n",
        "    pass\n",
        "\n",
        "class B(A):  # B是旧式类，因为B的基类A是旧式类\n",
        "    pass\n",
        "```\n",
        "可以明显的看出新式类继承`object`这个类。\n",
        "它们有以下两点不同：\n",
        "2. 保持class与type的统一对新式类的实例执行\n",
        "<br>a.__class__与type(a)的结果是一致的，对于旧式类来说就不一样了。    \n",
        "3. 对于多重继承的属性搜索顺序不一样新式类是采用广度\n",
        "<br>优先搜索，旧式类采用深度优先搜索。\n",
        "\n",
        "#### 1.首先我们来看第一点class与type的统一\n",
        "\n",
        "\n",
        "    \n"
      ]
    },
    {
      "cell_type": "code",
      "metadata": {
        "id": "6BC9yuPtc431",
        "colab_type": "code",
        "colab": {}
      },
      "source": [
        "# 在python2.x(2.7)的环境下运行\n",
        "class A():pass\n",
        "class B():pass\n",
        "\n",
        "a = A()\n",
        "b = B()\n",
        "\n",
        "if __name__ == '__main__':\n",
        "  print(type(a))\n",
        "  print(type(b))\n",
        "  print(type(a) == type(b))\n",
        "  print(a.__class__)\n",
        "  print(b.__class__)\n",
        "  print(a.__class__ == b.__class__)\n",
        "\n",
        "\n"
      ],
      "execution_count": 0,
      "outputs": []
    },
    {
      "cell_type": "code",
      "metadata": {
        "id": "HFz9I0FjdwXR",
        "colab_type": "code",
        "outputId": "97af33ce-f03f-47ca-ae3a-763a7b6ffdac",
        "colab": {
          "base_uri": "https://localhost:8080/",
          "height": 118
        }
      },
      "source": [
        "# 在python2.x(2.7)的环境下运行\n",
        "# 实例调用__class__属性时会指向该实例对应的类\n",
        "class A():pass\n",
        "class B():pass\n",
        "\n",
        "a = A()\n",
        "b = B()\n",
        "\n",
        "if __name__ == '__main__':\n",
        "  print(type(a))\n",
        "  print(type(b))\n",
        "  print(type(a) == type(b))\n",
        "  print(a.__class__)\n",
        "  print(b.__class__)\n",
        "  print(a.__class__ == b.__class__)"
      ],
      "execution_count": 0,
      "outputs": [
        {
          "output_type": "stream",
          "text": [
            "<type 'instance'>\n",
            "<type 'instance'>\n",
            "True\n",
            "__main__.A\n",
            "__main__.B\n",
            "False\n"
          ],
          "name": "stdout"
        }
      ]
    },
    {
      "cell_type": "code",
      "metadata": {
        "colab_type": "code",
        "outputId": "0f986b90-c5e9-40f1-c781-d46329fc37b6",
        "id": "sidZ9-iseKKk",
        "colab": {
          "base_uri": "https://localhost:8080/",
          "height": 118
        }
      },
      "source": [
        "# 在python2.x(2.7)的环境下运行 使用新式类\n",
        "class A(object):pass\n",
        "class B(object):pass\n",
        "\n",
        "a = A()\n",
        "b = B()\n",
        "\n",
        "if __name__ == '__main__':\n",
        "  print(type(a))\n",
        "  print(type(b))\n",
        "  print(type(a) == type(b))\n",
        "  print(a.__class__)\n",
        "  print(b.__class__)\n",
        "  print(a.__class__ == b.__class__)"
      ],
      "execution_count": 0,
      "outputs": [
        {
          "output_type": "stream",
          "text": [
            "<class '__main__.A'>\n",
            "<class '__main__.B'>\n",
            "False\n",
            "<class '__main__.A'>\n",
            "<class '__main__.B'>\n",
            "False\n"
          ],
          "name": "stdout"
        }
      ]
    },
    {
      "cell_type": "markdown",
      "metadata": {
        "id": "g0wKO3HRectF",
        "colab_type": "text"
      },
      "source": [
        "观察到运行结果的区别"
      ]
    },
    {
      "cell_type": "code",
      "metadata": {
        "id": "GB-DXK13eitF",
        "colab_type": "code",
        "colab": {}
      },
      "source": [
        "# 使用python3.x环境运行\n"
      ],
      "execution_count": 0,
      "outputs": []
    },
    {
      "cell_type": "code",
      "metadata": {
        "colab_type": "code",
        "outputId": "beb51f3f-a725-40d4-875c-5852e82e584b",
        "id": "J6Eul262eqeU",
        "colab": {
          "base_uri": "https://localhost:8080/",
          "height": 118
        }
      },
      "source": [
        "# 在python2.x(2.7)的环境下运行\n",
        "class A():pass\n",
        "class B():pass\n",
        "\n",
        "a = A()\n",
        "b = B()\n",
        "\n",
        "if __name__ == '__main__':\n",
        "  print(type(a))\n",
        "  print(type(b))\n",
        "  print(type(a) == type(b))\n",
        "  print(a.__class__)\n",
        "  print(b.__class__)\n",
        "  print(a.__class__ == b.__class__)"
      ],
      "execution_count": 2,
      "outputs": [
        {
          "output_type": "stream",
          "text": [
            "<class '__main__.A'>\n",
            "<class '__main__.B'>\n",
            "False\n",
            "<class '__main__.A'>\n",
            "<class '__main__.B'>\n",
            "False\n"
          ],
          "name": "stdout"
        }
      ]
    },
    {
      "cell_type": "markdown",
      "metadata": {
        "id": "NVbVnAdIetDv",
        "colab_type": "text"
      },
      "source": [
        "观察到，继承`object`的新式类与python3的结果相同\n"
      ]
    },
    {
      "cell_type": "markdown",
      "metadata": {
        "id": "scLCI94afP1z",
        "colab_type": "text"
      },
      "source": [
        "#### 2.关于广度优先与深度优先搜索\n"
      ]
    },
    {
      "cell_type": "code",
      "metadata": {
        "colab_type": "code",
        "outputId": "9226f42c-56ff-4a61-94ee-392e41cdb8cd",
        "id": "g7YReQEqgfSh",
        "colab": {
          "base_uri": "https://localhost:8080/",
          "height": 34
        }
      },
      "source": [
        "# 在python2.x(2.7)的环境下运行 新式类 广度优先\n",
        "class A(object):\n",
        "    def __init__(self):\n",
        "        pass\n",
        "    def save(self):\n",
        "        print \"This is from A\"\n",
        "class B(A):\n",
        "    def __init__(self):\n",
        "        pass\n",
        "class C(A):\n",
        "    def __init__(self):\n",
        "        pass\n",
        "    def save(self):\n",
        "        print  \"This is from C\"\n",
        "class D(B,C):\n",
        "    def __init__(self):\n",
        "        pass\n",
        "fun = D()\n",
        "fun.save()\n",
        "# B -> A -> C"
      ],
      "execution_count": 0,
      "outputs": [
        {
          "output_type": "stream",
          "text": [
            "This is from C\n"
          ],
          "name": "stdout"
        }
      ]
    },
    {
      "cell_type": "code",
      "metadata": {
        "colab_type": "code",
        "outputId": "ddecc88f-bc8e-4d73-a9c3-52650fb05784",
        "id": "KLMs_K2RgM_0",
        "colab": {
          "base_uri": "https://localhost:8080/",
          "height": 34
        }
      },
      "source": [
        "# 在python2.x(2.7)的环境下运行 经典类 深度优先\n",
        "class A():\n",
        "    def __init__(self):\n",
        "        pass\n",
        "    def save(self):\n",
        "        print \"This is from A\"\n",
        "class B(A):\n",
        "    def __init__(self):\n",
        "        pass\n",
        "class C(A):\n",
        "    def __init__(self):\n",
        "        pass\n",
        "    def save(self):\n",
        "        print  \"This is from C\"\n",
        "class D(B,C):\n",
        "    def __init__(self):\n",
        "        pass\n",
        "fun = D()\n",
        "fun.save()\n",
        "# B -> C -> A"
      ],
      "execution_count": 0,
      "outputs": [
        {
          "output_type": "stream",
          "text": [
            "This is from A\n"
          ],
          "name": "stdout"
        }
      ]
    },
    {
      "cell_type": "markdown",
      "metadata": {
        "id": "eWUlkcHvmNFY",
        "colab_type": "text"
      },
      "source": [
        "![image.png](data:image/png;base64,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)"
      ]
    },
    {
      "cell_type": "markdown",
      "metadata": {
        "id": "fnQ9chb-mbp0",
        "colab_type": "text"
      },
      "source": [
        "*这里的 F为 D*\n"
      ]
    }
  ]
}